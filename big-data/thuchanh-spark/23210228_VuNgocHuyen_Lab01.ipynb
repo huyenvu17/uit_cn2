{
 "cells": [
  {
   "cell_type": "markdown",
   "id": "45e373a2-ba3e-463d-87e6-46fffd0ad2e9",
   "metadata": {},
   "source": [
    "# Bài Tập Thực Hành Buổi 1"
   ]
  },
  {
   "cell_type": "markdown",
   "id": "61e0e9d7-7f4e-4194-8e15-1feea736ec9b",
   "metadata": {},
   "source": [
    "## Bài 1: Tính trung bình cộng, trung bình nhân của một dãy số thực"
   ]
  },
  {
   "cell_type": "code",
   "execution_count": 58,
   "id": "a1025177-20c7-43ce-82be-647b4ba92658",
   "metadata": {},
   "outputs": [],
   "source": [
    "import random"
   ]
  },
  {
   "cell_type": "code",
   "execution_count": 59,
   "id": "f09e6ddd-eb6b-45eb-a512-b241c1ba652d",
   "metadata": {},
   "outputs": [],
   "source": [
    "data = []\n",
    "for i in range(0,1000):\n",
    "    data.append(random.uniform(1,10))"
   ]
  },
  {
   "cell_type": "code",
   "execution_count": 60,
   "id": "931543fd-dc1b-45ce-8872-f0fcf2ad2ffc",
   "metadata": {},
   "outputs": [],
   "source": [
    "# Tạo RDD từ danh sách số thực\n",
    "rddSoThuc = sc.parallelize(data)\n",
    "\n",
    "# Đếm tổng các số thực\n",
    "count = rddSoThuc.count()"
   ]
  },
  {
   "cell_type": "code",
   "execution_count": 61,
   "id": "c405856f-68df-4e41-a44c-91e57cdb8c7c",
   "metadata": {},
   "outputs": [
    {
     "name": "stdout",
     "output_type": "stream",
     "text": [
      "Trung bình cộng của dãy số thực: 5.5946345954187615\n"
     ]
    }
   ],
   "source": [
    "# Tính trung bình cộng\n",
    "tong = rddSoThuc.reduce(lambda x, y: x + y)\n",
    "tbCong = tong / count\n",
    "print(f\"Trung bình cộng của dãy số thực: {tbCong}\")"
   ]
  },
  {
   "cell_type": "code",
   "execution_count": 62,
   "id": "49a9d489-093b-483a-9b69-570f4deef259",
   "metadata": {},
   "outputs": [
    {
     "name": "stdout",
     "output_type": "stream",
     "text": [
      "Trung bình nhân của dãy số thực: 4.795619269720676\n"
     ]
    }
   ],
   "source": [
    "# Tính trung bình nhân\n",
    "import math\n",
    "log_sum = rddSoThuc.map(lambda x: math.log(x)).reduce(lambda x, y: x + y)\n",
    "tbNhan = math.exp(log_sum / count)\n",
    "print(f\"Trung bình nhân của dãy số thực: {tbNhan}\")"
   ]
  },
  {
   "cell_type": "markdown",
   "id": "e1a3d16b-b6d9-444b-9a0d-ae1887726d2f",
   "metadata": {},
   "source": [
    "## Bài 2: Tính phương sai và độ lệch chuẩn của một dãy số thực"
   ]
  },
  {
   "cell_type": "code",
   "execution_count": 63,
   "id": "08a71047-9de1-4e57-b778-97a20da3bbac",
   "metadata": {},
   "outputs": [
    {
     "name": "stdout",
     "output_type": "stream",
     "text": [
      "Phương sai của dãy số thực: 7.168650638860481\n"
     ]
    }
   ],
   "source": [
    "# Tính phương sai (variance)\n",
    "phuongsai = rddSoThuc.map(lambda x: (x - tbCong) ** 2).reduce(lambda x, y: x + y) / count\n",
    "print(f\"Phương sai của dãy số thực: {phuongsai}\")"
   ]
  },
  {
   "cell_type": "code",
   "execution_count": 64,
   "id": "110adcee-a234-4017-b368-deabbfdba7dd",
   "metadata": {},
   "outputs": [
    {
     "name": "stdout",
     "output_type": "stream",
     "text": [
      "Độ lệch chuẩn: 2.677433591867496\n"
     ]
    }
   ],
   "source": [
    "# Tính độ lệch chuẩn\n",
    "dolechchuan = phuongsai ** 0.5\n",
    "print(f\"Độ lệch chuẩn: {dolechchuan}\")"
   ]
  },
  {
   "cell_type": "markdown",
   "id": "7071c3ad-7ee9-4434-8d2f-cd8523ac4bb9",
   "metadata": {},
   "source": [
    "## Bài 3: Tính tổng của một dãy phân số đọc từ tập tin"
   ]
  },
  {
   "cell_type": "markdown",
   "id": "56b15901-dd4a-4e34-8dd5-64d1a1c76652",
   "metadata": {},
   "source": [
    "#### Cách 1: Thủ công"
   ]
  },
  {
   "cell_type": "code",
   "execution_count": 65,
   "id": "89663f49-bd20-4dd6-9eaa-cc04990978db",
   "metadata": {},
   "outputs": [
    {
     "data": {
      "text/plain": [
       "['2/3', '5/6', '7/8', '1/2', '9/10']"
      ]
     },
     "execution_count": 65,
     "metadata": {},
     "output_type": "execute_result"
    }
   ],
   "source": [
    "rddPhanSoData = sc.textFile('data_phanso')\n",
    "rddPhanSoData.collect()"
   ]
  },
  {
   "cell_type": "code",
   "execution_count": 66,
   "id": "fb444558-5269-465b-b256-ee160150f77a",
   "metadata": {},
   "outputs": [],
   "source": [
    "# Hàm tách phân số (tử, mẫu)\n",
    "def tachPhanSo(chuoi: str):\n",
    "    items = chuoi.split('/')\n",
    "    return (int(items[0]), int(items[1]))"
   ]
  },
  {
   "cell_type": "code",
   "execution_count": 67,
   "id": "54709217-80a4-48ca-92fe-15b2394cb9b6",
   "metadata": {},
   "outputs": [
    {
     "data": {
      "text/plain": [
       "[(2, 3), (5, 6), (7, 8), (1, 2), (9, 10)]"
      ]
     },
     "execution_count": 67,
     "metadata": {},
     "output_type": "execute_result"
    }
   ],
   "source": [
    "# Phân số sau khi parse\n",
    "rddPhanSo = rddPhanSoData.map(tachPhanSo)\n",
    "rddPhanSo.collect()"
   ]
  },
  {
   "cell_type": "code",
   "execution_count": 68,
   "id": "64bfc314-d66e-4633-b1a0-82a7b956fce5",
   "metadata": {},
   "outputs": [],
   "source": [
    "from math import gcd\n",
    "\n",
    "# Hàm cộng 2 phân số thủ công\n",
    "def congPhanSo(ps1, ps2):\n",
    "    tu1, mau1 = ps1\n",
    "    tu2, mau2 = ps2\n",
    "    # Quy đồng\n",
    "    tu = tu1 * mau2 + tu2 * mau1\n",
    "    mau = mau1 * mau2\n",
    "    # Rút gọn phân số\n",
    "    ucln = gcd(tu, mau)\n",
    "    return (tu // ucln, mau // ucln)"
   ]
  },
  {
   "cell_type": "code",
   "execution_count": 69,
   "id": "d23c0a16-73e4-4fa1-848d-f2f2e2fc2c2a",
   "metadata": {},
   "outputs": [
    {
     "name": "stdout",
     "output_type": "stream",
     "text": [
      "Tổng của dãy phân số: 151/40\n",
      "Giá trị thập phân: 3.775\n"
     ]
    }
   ],
   "source": [
    "# Tính tổng\n",
    "tongPhanSo = rddPhanSo.reduce(congPhanSo)\n",
    "\n",
    "print(f\"Tổng của dãy phân số: {tongPhanSo[0]}/{tongPhanSo[1]}\")\n",
    "print(f\"Giá trị thập phân: {tongPhanSo[0] / tongPhanSo[1]}\")"
   ]
  },
  {
   "cell_type": "markdown",
   "id": "4297dec0-2612-472d-894e-09c299ef53a0",
   "metadata": {},
   "source": [
    "#### Cách 2: sử dụng module fractions để xử lý phân số"
   ]
  },
  {
   "cell_type": "code",
   "execution_count": 70,
   "id": "82be4c42-2ed4-4cb4-8b3e-00a8b1dd3e83",
   "metadata": {},
   "outputs": [
    {
     "name": "stdout",
     "output_type": "stream",
     "text": [
      "Dữ liệu gốc: ['2/3', '5/6', '7/8', '1/2', '9/10']\n",
      "Phân số sau khi parse: [Fraction(2, 3), Fraction(5, 6), Fraction(7, 8), Fraction(1, 2), Fraction(9, 10)]\n",
      "Tổng của dãy phân số: 151/40 (dạng phân số)\n",
      "Giá trị thập phân: 3.775\n"
     ]
    }
   ],
   "source": [
    "from fractions import Fraction\n",
    "\n",
    "# Đọc dữ liệu từ file\n",
    "rddPhanSoData = sc.textFile('data_phanso')\n",
    "print(\"Dữ liệu gốc:\", rddPhanSoData.collect())\n",
    "\n",
    "# Tách thành phân số bằng Fraction\n",
    "def tachPhanSo(chuoi: str):\n",
    "    tu, mau = chuoi.split('/')\n",
    "    return Fraction(int(tu), int(mau))\n",
    "\n",
    "rddPhanSo = rddPhanSoData.map(tachPhanSo)\n",
    "print(\"Phân số sau khi parse:\", rddPhanSo.collect())\n",
    "\n",
    "# Tính tổng các phân số\n",
    "tongPhanSo = rddPhanSo.reduce(lambda x, y: x + y)\n",
    "\n",
    "print(f\"Tổng của dãy phân số: {tongPhanSo} (dạng phân số)\")\n",
    "print(f\"Giá trị thập phân: {float(tongPhanSo)}\")\n"
   ]
  }
 ],
 "metadata": {
  "kernelspec": {
   "display_name": "PySpark",
   "language": "python",
   "name": "pyspark"
  },
  "language_info": {
   "codemirror_mode": {
    "name": "ipython",
    "version": 3
   },
   "file_extension": ".py",
   "mimetype": "text/x-python",
   "name": "python",
   "nbconvert_exporter": "python",
   "pygments_lexer": "ipython3",
   "version": "3.10.12"
  }
 },
 "nbformat": 4,
 "nbformat_minor": 5
}
