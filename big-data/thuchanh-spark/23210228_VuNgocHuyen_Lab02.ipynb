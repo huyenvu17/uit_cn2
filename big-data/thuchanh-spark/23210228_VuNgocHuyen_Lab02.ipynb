{
 "cells": [
  {
   "cell_type": "markdown",
   "id": "6361fa91-3078-4531-945d-a9785de41dba",
   "metadata": {},
   "source": [
    "# Bài Tập Thực Hành Buổi 2 - Lớp 1"
   ]
  },
  {
   "cell_type": "markdown",
   "id": "89e2aa7b-1d84-4f82-8794-7cc34043882d",
   "metadata": {
    "jp-MarkdownHeadingCollapsed": true
   },
   "source": [
    "## IV. Làm quen với Spark DataFrame"
   ]
  },
  {
   "cell_type": "markdown",
   "id": "ea4e626a-e5b2-4525-9cdb-58f005727c46",
   "metadata": {},
   "source": [
    "## Bài tập 1: Tạo và thao tác với DataFrame từ JSON"
   ]
  },
  {
   "cell_type": "code",
   "execution_count": 74,
   "id": "d2fcb0bd-d7a4-4663-9560-b616be95aca2",
   "metadata": {},
   "outputs": [
    {
     "name": "stderr",
     "output_type": "stream",
     "text": [
      "                                                                                "
     ]
    }
   ],
   "source": [
    "# a. Tạo DataFrame từ nội dung của file JSON\n",
    "df = spark.read.json(\"./examples/src/main/resources/people.json\")"
   ]
  },
  {
   "cell_type": "code",
   "execution_count": 75,
   "id": "ac19ebac-a0f9-4db2-8b29-e6f1527fab70",
   "metadata": {},
   "outputs": [
    {
     "name": "stdout",
     "output_type": "stream",
     "text": [
      "+----+-------+\n",
      "| age|   name|\n",
      "+----+-------+\n",
      "|NULL|Michael|\n",
      "|  30|   Andy|\n",
      "|  19| Justin|\n",
      "+----+-------+\n",
      "\n"
     ]
    }
   ],
   "source": [
    "# b. Hiển thị nội dung của Dataframe ra stdout\n",
    "df.show()"
   ]
  },
  {
   "cell_type": "code",
   "execution_count": 76,
   "id": "6015316b-6fe2-45ff-9cec-d4a0ba63d076",
   "metadata": {},
   "outputs": [
    {
     "name": "stdout",
     "output_type": "stream",
     "text": [
      "root\n",
      " |-- age: long (nullable = true)\n",
      " |-- name: string (nullable = true)\n",
      "\n"
     ]
    }
   ],
   "source": [
    "# c. In ra stdout cấu trúc của DataFrame theo dạng cây\n",
    "df.printSchema()"
   ]
  },
  {
   "cell_type": "code",
   "execution_count": 77,
   "id": "bcc86117-568c-40f0-b555-8da8ead7dda2",
   "metadata": {},
   "outputs": [
    {
     "name": "stdout",
     "output_type": "stream",
     "text": [
      "+-------+\n",
      "|   name|\n",
      "+-------+\n",
      "|Michael|\n",
      "|   Andy|\n",
      "| Justin|\n",
      "+-------+\n",
      "\n"
     ]
    }
   ],
   "source": [
    "# d. Chọn duy nhất một cột \"name\" để hiển thị\n",
    "df.select('name').show()"
   ]
  },
  {
   "cell_type": "code",
   "execution_count": 78,
   "id": "a088fa40-7682-4c7f-b8c0-435a6ac39f7f",
   "metadata": {},
   "outputs": [
    {
     "name": "stdout",
     "output_type": "stream",
     "text": [
      "+-------+---------+\n",
      "|   name|(age + 1)|\n",
      "+-------+---------+\n",
      "|Michael|     NULL|\n",
      "|   Andy|       31|\n",
      "| Justin|       20|\n",
      "+-------+---------+\n",
      "\n"
     ]
    }
   ],
   "source": [
    "# e. Hiển thị toàn bộ cột với tất cả giá trị của cột \"age\" tăng lên 1\n",
    "df.select(df['name'], df['age'] + 1).show()"
   ]
  },
  {
   "cell_type": "code",
   "execution_count": 79,
   "id": "3b5625d0-6cde-43b5-8a14-5cc86c83cf9b",
   "metadata": {},
   "outputs": [
    {
     "name": "stdout",
     "output_type": "stream",
     "text": [
      "+---+----+\n",
      "|age|name|\n",
      "+---+----+\n",
      "| 30|Andy|\n",
      "+---+----+\n",
      "\n"
     ]
    }
   ],
   "source": [
    "# f. Lọc ra những người có tuổi lớn hơn 21\n",
    "df.filter(df['age'] > 21).show()"
   ]
  },
  {
   "cell_type": "code",
   "execution_count": 80,
   "id": "e9273e91-78e3-4c03-888b-bc1b058bf4d9",
   "metadata": {},
   "outputs": [
    {
     "name": "stdout",
     "output_type": "stream",
     "text": [
      "+----+-----+\n",
      "| age|count|\n",
      "+----+-----+\n",
      "|  19|    1|\n",
      "|NULL|    1|\n",
      "|  30|    1|\n",
      "+----+-----+\n",
      "\n"
     ]
    }
   ],
   "source": [
    "# g. Đếm số người theo từng độ tuổi\n",
    "df.groupBy('age').count().show()"
   ]
  },
  {
   "cell_type": "markdown",
   "id": "3ab53bf3-148e-463f-a85c-73a55cb2e7f6",
   "metadata": {},
   "source": [
    "## Bài tập 2: Tạo và thao tác với DataFrame từ file CSV"
   ]
  },
  {
   "cell_type": "code",
   "execution_count": 8,
   "id": "86e4e59e-f898-463e-ab3e-125d88e5c06e",
   "metadata": {},
   "outputs": [],
   "source": [
    "# a. Tạo DataFrame từ nội dung của file CSV\n",
    "df = spark.read.format('csv').option('header', 'true').load(\"./data_thuchanh/ebay.csv\")"
   ]
  },
  {
   "cell_type": "code",
   "execution_count": 9,
   "id": "3bfb3977-01a2-490e-baa9-f9a6cd427072",
   "metadata": {},
   "outputs": [
    {
     "name": "stdout",
     "output_type": "stream",
     "text": [
      "+----------+-----+--------+--------------+----------+-------+-----+----+----------+\n",
      "| auctionid|  bid| bidtime|        bidder|bidderrate|openbid|price|item|daystolive|\n",
      "+----------+-----+--------+--------------+----------+-------+-----+----+----------+\n",
      "|8213034705|   95|2.927373|      jake7870|         0|     95|117.5|xbox|         3|\n",
      "|8213034705|  115|2.943484| davidbresler2|         1|     95|117.5|xbox|         3|\n",
      "|8213034705|  100|2.951285|gladimacowgirl|        58|     95|117.5|xbox|         3|\n",
      "|8213034705|117.5|2.998947|       daysrus|        10|     95|117.5|xbox|         3|\n",
      "|8213060420|    2|0.065266|    donnie4814|         5|      1|  120|xbox|         3|\n",
      "|8213060420|15.25|0.123218|   myreeceyboy|        52|      1|  120|xbox|         3|\n",
      "|8213060420|    3|0.186539|  parakeet2004|         5|      1|  120|xbox|         3|\n",
      "|8213060420|   10| 0.18669|  parakeet2004|         5|      1|  120|xbox|         3|\n",
      "|8213060420|24.99|0.187049|  parakeet2004|         5|      1|  120|xbox|         3|\n",
      "|8213060420|   20|0.249491| bluebubbles_1|        25|      1|  120|xbox|         3|\n",
      "|8213060420|   22| 0.24956| bluebubbles_1|        25|      1|  120|xbox|         3|\n",
      "|8213060420|   24|0.249653| bluebubbles_1|        25|      1|  120|xbox|         3|\n",
      "|8213060420|   26|0.249757| bluebubbles_1|        25|      1|  120|xbox|         3|\n",
      "|8213060420|   80| 0.59059|        sa4741|         3|      1|  120|xbox|         3|\n",
      "|8213060420|   75|0.657384|     jhnsn2273|        51|      1|  120|xbox|         3|\n",
      "|8213060420|   85|0.657917|     jhnsn2273|        51|      1|  120|xbox|         3|\n",
      "|8213060420|   83|0.816447|        sa4741|         3|      1|  120|xbox|         3|\n",
      "|8213060420|  100|1.005903|        sa4741|         3|      1|  120|xbox|         3|\n",
      "|8213060420|  100|1.012697|     jhnsn2273|        51|      1|  120|xbox|         3|\n",
      "|8213060420|  110|1.013056|     jhnsn2273|        51|      1|  120|xbox|         3|\n",
      "+----------+-----+--------+--------------+----------+-------+-----+----+----------+\n",
      "only showing top 20 rows\n"
     ]
    }
   ],
   "source": [
    "# b. Hiển thị nội dung của Dataframe ra stdout\n",
    "df.show()"
   ]
  },
  {
   "cell_type": "code",
   "execution_count": 10,
   "id": "cd9a2579-3718-4628-a205-4df9a440fe85",
   "metadata": {
    "scrolled": true
   },
   "outputs": [
    {
     "name": "stdout",
     "output_type": "stream",
     "text": [
      "root\n",
      " |-- auctionid: string (nullable = true)\n",
      " |-- bid: string (nullable = true)\n",
      " |-- bidtime: string (nullable = true)\n",
      " |-- bidder: string (nullable = true)\n",
      " |-- bidderrate: string (nullable = true)\n",
      " |-- openbid: string (nullable = true)\n",
      " |-- price: string (nullable = true)\n",
      " |-- item: string (nullable = true)\n",
      " |-- daystolive: string (nullable = true)\n",
      "\n"
     ]
    }
   ],
   "source": [
    "# c. In ra stdout cấu trúc của DataFrame theo dạng cây\n",
    "df.printSchema()"
   ]
  },
  {
   "cell_type": "code",
   "execution_count": 11,
   "id": "2dc0e9af-afd1-4d48-a468-39782c3d5a02",
   "metadata": {},
   "outputs": [
    {
     "data": {
      "text/plain": [
       "627"
      ]
     },
     "execution_count": 11,
     "metadata": {},
     "output_type": "execute_result"
    }
   ],
   "source": [
    "# d. Đếm số cuộc đấu giá đã được tổ chức bằng câu lệnh\n",
    "df.select('auctionid').distinct().count()"
   ]
  },
  {
   "cell_type": "code",
   "execution_count": 12,
   "id": "5329d4db-3f0d-4edb-ab66-b8c18075f2bd",
   "metadata": {},
   "outputs": [
    {
     "name": "stdout",
     "output_type": "stream",
     "text": [
      "+----------+-------+-----+\n",
      "| auctionid|   item|count|\n",
      "+----------+-------+-----+\n",
      "|1645883276|cartier|   12|\n",
      "|1641242797|cartier|    5|\n",
      "|1642005995|cartier|   18|\n",
      "|3020060476|   palm|   22|\n",
      "|1644681469|cartier|   14|\n",
      "|8212145833|   xbox|   26|\n",
      "|1638844464|cartier|   16|\n",
      "|3020573049|   palm|    2|\n",
      "|3015632013|   palm|   28|\n",
      "|3024659380|   palm|   26|\n",
      "|3025373736|   palm|   15|\n",
      "|8213387659|   xbox|   25|\n",
      "|1643201832|cartier|    4|\n",
      "|3014834745|   palm|   21|\n",
      "|3020257463|   palm|   16|\n",
      "|3020274575|   palm|   11|\n",
      "|3019821569|   palm|   27|\n",
      "|3024707992|   palm|   20|\n",
      "|8212277835|   xbox|    3|\n",
      "|3019326870|   palm|   33|\n",
      "+----------+-------+-----+\n",
      "only showing top 20 rows\n"
     ]
    }
   ],
   "source": [
    "# e. Đếm số lượng giá đấu trên mỗi mặt hàng\n",
    "df.groupBy('auctionid', 'item').count().show()"
   ]
  },
  {
   "cell_type": "code",
   "execution_count": 13,
   "id": "03842a27-df1c-45dd-9310-fea4096a9221",
   "metadata": {},
   "outputs": [
    {
     "name": "stdout",
     "output_type": "stream",
     "text": [
      "+----------+-----+--------+--------------+----------+-------+-----+----+----------+\n",
      "| auctionid|  bid| bidtime|        bidder|bidderrate|openbid|price|item|daystolive|\n",
      "+----------+-----+--------+--------------+----------+-------+-----+----+----------+\n",
      "|8213034705|   95|2.927373|      jake7870|         0|     95|117.5|xbox|         3|\n",
      "|8213034705|  115|2.943484| davidbresler2|         1|     95|117.5|xbox|         3|\n",
      "|8213034705|  100|2.951285|gladimacowgirl|        58|     95|117.5|xbox|         3|\n",
      "|8213034705|117.5|2.998947|       daysrus|        10|     95|117.5|xbox|         3|\n",
      "|8213060420|    2|0.065266|    donnie4814|         5|      1|120.0|xbox|         3|\n",
      "|8213060420|15.25|0.123218|   myreeceyboy|        52|      1|120.0|xbox|         3|\n",
      "|8213060420|    3|0.186539|  parakeet2004|         5|      1|120.0|xbox|         3|\n",
      "|8213060420|   10| 0.18669|  parakeet2004|         5|      1|120.0|xbox|         3|\n",
      "|8213060420|24.99|0.187049|  parakeet2004|         5|      1|120.0|xbox|         3|\n",
      "|8213060420|   20|0.249491| bluebubbles_1|        25|      1|120.0|xbox|         3|\n",
      "|8213060420|   22| 0.24956| bluebubbles_1|        25|      1|120.0|xbox|         3|\n",
      "|8213060420|   24|0.249653| bluebubbles_1|        25|      1|120.0|xbox|         3|\n",
      "|8213060420|   26|0.249757| bluebubbles_1|        25|      1|120.0|xbox|         3|\n",
      "|8213060420|   80| 0.59059|        sa4741|         3|      1|120.0|xbox|         3|\n",
      "|8213060420|   75|0.657384|     jhnsn2273|        51|      1|120.0|xbox|         3|\n",
      "|8213060420|   85|0.657917|     jhnsn2273|        51|      1|120.0|xbox|         3|\n",
      "|8213060420|   83|0.816447|        sa4741|         3|      1|120.0|xbox|         3|\n",
      "|8213060420|  100|1.005903|        sa4741|         3|      1|120.0|xbox|         3|\n",
      "|8213060420|  100|1.012697|     jhnsn2273|        51|      1|120.0|xbox|         3|\n",
      "|8213060420|  110|1.013056|     jhnsn2273|        51|      1|120.0|xbox|         3|\n",
      "+----------+-----+--------+--------------+----------+-------+-----+----+----------+\n",
      "only showing top 20 rows\n"
     ]
    }
   ],
   "source": [
    "# f. Lọc và hiển thị các phiên đấu giá có giá đóng cửa lớn hơn 100\n",
    "from pyspark.sql.functions import col\n",
    "\n",
    "# Chuyển cột price sang kiểu FLOAT\n",
    "df = df.withColumn(\"price\", col(\"price\").cast(\"float\"))\n",
    "\n",
    "# Lọc các phiên đấu giá có giá đóng cửa lớn hơn 100\n",
    "highprice = df.filter(df['price'] > 100)\n",
    "highprice.show()"
   ]
  },
  {
   "cell_type": "markdown",
   "id": "d6a332ed-8b56-4e56-9e6a-27be36a5733f",
   "metadata": {
    "jp-MarkdownHeadingCollapsed": true
   },
   "source": [
    "## V. Thao tác với DataFrame bằng ngôn ngữ SQL"
   ]
  },
  {
   "cell_type": "markdown",
   "id": "abdaa68d-7390-46f7-aa5c-e668881ecca8",
   "metadata": {},
   "source": [
    "## Bài tập 3: Thao tác với DataFrame bằng ngôn ngữ SQL (dữ liệu people ở bài tập 1)"
   ]
  },
  {
   "cell_type": "code",
   "execution_count": 14,
   "id": "f32cb318-1fa4-4d35-9a8a-c967f9391fcf",
   "metadata": {},
   "outputs": [],
   "source": [
    "# a. Tạo một khung nhìn tạm (SQL temporary view) từ DataFrame df\n",
    "dfSQL = spark.read.json(\"./examples/src/main/resources/people.json\")\n",
    "dfSQL.createOrReplaceTempView(\"people\")"
   ]
  },
  {
   "cell_type": "code",
   "execution_count": 15,
   "id": "ad9a48a7-5297-4296-80a5-1b1e92906ed0",
   "metadata": {},
   "outputs": [
    {
     "name": "stdout",
     "output_type": "stream",
     "text": [
      "+----+-------+\n",
      "| age|   name|\n",
      "+----+-------+\n",
      "|NULL|Michael|\n",
      "|  30|   Andy|\n",
      "|  19| Justin|\n",
      "+----+-------+\n",
      "\n"
     ]
    }
   ],
   "source": [
    "# b. Truy vấn toàn bộ dữ liệu và kết quả\n",
    "sqlDF = spark.sql(\"SELECT * FROM people\")\n",
    "sqlDF.show()"
   ]
  },
  {
   "cell_type": "code",
   "execution_count": 16,
   "id": "5073c7ff-cf19-47d3-a578-b2a6d16abaa8",
   "metadata": {},
   "outputs": [
    {
     "name": "stdout",
     "output_type": "stream",
     "text": [
      "+-------+\n",
      "|   name|\n",
      "+-------+\n",
      "|Michael|\n",
      "|   Andy|\n",
      "| Justin|\n",
      "+-------+\n",
      "\n"
     ]
    }
   ],
   "source": [
    "# c. Chọn duy nhất một cột \"name\" để hiển thị\n",
    "sqlName = spark.sql(\"SELECT name FROM people\")\n",
    "sqlName.show()"
   ]
  },
  {
   "cell_type": "code",
   "execution_count": 17,
   "id": "7fb4c63f-2da3-4185-8951-d05eae2b296e",
   "metadata": {},
   "outputs": [
    {
     "name": "stdout",
     "output_type": "stream",
     "text": [
      "+----+-------+----+\n",
      "| age|   name| age|\n",
      "+----+-------+----+\n",
      "|NULL|Michael|NULL|\n",
      "|  30|   Andy|  31|\n",
      "|  19| Justin|  20|\n",
      "+----+-------+----+\n",
      "\n"
     ]
    }
   ],
   "source": [
    "# d. Hiển thị toàn bộ cột với tất cả giá trị của cột \"age\" tăng lên 1\n",
    "sqlAgeIncrease = spark.sql(\"\"\"\n",
    "    SELECT *, (age + 1) AS age\n",
    "    FROM people\n",
    "\"\"\")\n",
    "sqlAgeIncrease.show()"
   ]
  },
  {
   "cell_type": "code",
   "execution_count": 18,
   "id": "8db8e8a0-edee-4ed1-b0be-ff767cfbeeea",
   "metadata": {},
   "outputs": [
    {
     "name": "stdout",
     "output_type": "stream",
     "text": [
      "+---+----+\n",
      "|age|name|\n",
      "+---+----+\n",
      "| 30|Andy|\n",
      "+---+----+\n",
      "\n"
     ]
    }
   ],
   "source": [
    "# e. Lọc ra những người có tuổi lớn hơn 21\n",
    "sqlAge = spark.sql(\"\"\"\n",
    "    SELECT * FROM people\n",
    "    WHERE age > 21\n",
    "\"\"\")\n",
    "sqlAge.show()"
   ]
  },
  {
   "cell_type": "code",
   "execution_count": 19,
   "id": "caf7a9c4-aad2-478b-92bb-72a638816790",
   "metadata": {},
   "outputs": [
    {
     "name": "stdout",
     "output_type": "stream",
     "text": [
      "+----+-----+\n",
      "| age|count|\n",
      "+----+-----+\n",
      "|  19|    1|\n",
      "|NULL|    1|\n",
      "|  30|    1|\n",
      "+----+-----+\n",
      "\n"
     ]
    }
   ],
   "source": [
    "# f. Đếm số người theo từng độ tuổi\n",
    "sqlPeopleGroupByAge = spark.sql(\"\"\"\n",
    "    SELECT age, COUNT(*) AS count\n",
    "    FROM people\n",
    "    GROUP BY age\n",
    "\"\"\")\n",
    "sqlPeopleGroupByAge.show()"
   ]
  },
  {
   "cell_type": "markdown",
   "id": "c2f06bee-15d9-47bf-bfc6-d145ce010e20",
   "metadata": {},
   "source": [
    "## Bài tập 4: Thao tác với DataFrame bằng ngôn ngữ SQL (dữ liệu ebay ở bài tập 2)"
   ]
  },
  {
   "cell_type": "code",
   "execution_count": 20,
   "id": "47f2094e-a40f-477d-9b2c-59f6dbb91759",
   "metadata": {},
   "outputs": [],
   "source": [
    "# a. Tạo một khung nhìn tạm (SQL temporary view) từ DataFrame df\n",
    "df.createOrReplaceTempView(\"ebay\")"
   ]
  },
  {
   "cell_type": "code",
   "execution_count": 21,
   "id": "71e81a0a-d073-4eac-8a6d-fcab93d4a663",
   "metadata": {},
   "outputs": [
    {
     "name": "stdout",
     "output_type": "stream",
     "text": [
      "+----------+-----+--------+--------------+----------+-------+-----+----+----------+\n",
      "| auctionid|  bid| bidtime|        bidder|bidderrate|openbid|price|item|daystolive|\n",
      "+----------+-----+--------+--------------+----------+-------+-----+----+----------+\n",
      "|8213034705|   95|2.927373|      jake7870|         0|     95|117.5|xbox|         3|\n",
      "|8213034705|  115|2.943484| davidbresler2|         1|     95|117.5|xbox|         3|\n",
      "|8213034705|  100|2.951285|gladimacowgirl|        58|     95|117.5|xbox|         3|\n",
      "|8213034705|117.5|2.998947|       daysrus|        10|     95|117.5|xbox|         3|\n",
      "|8213060420|    2|0.065266|    donnie4814|         5|      1|120.0|xbox|         3|\n",
      "|8213060420|15.25|0.123218|   myreeceyboy|        52|      1|120.0|xbox|         3|\n",
      "|8213060420|    3|0.186539|  parakeet2004|         5|      1|120.0|xbox|         3|\n",
      "|8213060420|   10| 0.18669|  parakeet2004|         5|      1|120.0|xbox|         3|\n",
      "|8213060420|24.99|0.187049|  parakeet2004|         5|      1|120.0|xbox|         3|\n",
      "|8213060420|   20|0.249491| bluebubbles_1|        25|      1|120.0|xbox|         3|\n",
      "|8213060420|   22| 0.24956| bluebubbles_1|        25|      1|120.0|xbox|         3|\n",
      "|8213060420|   24|0.249653| bluebubbles_1|        25|      1|120.0|xbox|         3|\n",
      "|8213060420|   26|0.249757| bluebubbles_1|        25|      1|120.0|xbox|         3|\n",
      "|8213060420|   80| 0.59059|        sa4741|         3|      1|120.0|xbox|         3|\n",
      "|8213060420|   75|0.657384|     jhnsn2273|        51|      1|120.0|xbox|         3|\n",
      "|8213060420|   85|0.657917|     jhnsn2273|        51|      1|120.0|xbox|         3|\n",
      "|8213060420|   83|0.816447|        sa4741|         3|      1|120.0|xbox|         3|\n",
      "|8213060420|  100|1.005903|        sa4741|         3|      1|120.0|xbox|         3|\n",
      "|8213060420|  100|1.012697|     jhnsn2273|        51|      1|120.0|xbox|         3|\n",
      "|8213060420|  110|1.013056|     jhnsn2273|        51|      1|120.0|xbox|         3|\n",
      "+----------+-----+--------+--------------+----------+-------+-----+----+----------+\n",
      "only showing top 20 rows\n"
     ]
    }
   ],
   "source": [
    "# b. Truy vấn toàn bộ dữ liệu và kết quả\n",
    "sqlDF = spark.sql(\"SELECT * from ebay\")\n",
    "sqlDF.show()"
   ]
  },
  {
   "cell_type": "code",
   "execution_count": 22,
   "id": "523b7a1b-59d9-4c2c-8a9a-80bba821e685",
   "metadata": {},
   "outputs": [
    {
     "name": "stdout",
     "output_type": "stream",
     "text": [
      "+-------------+\n",
      "|auction_count|\n",
      "+-------------+\n",
      "|          627|\n",
      "+-------------+\n",
      "\n"
     ]
    }
   ],
   "source": [
    "# c. Đếm số cuộc đấu giá đã được tổ chức bằng câu lệnh\n",
    "sqlDemDauGia = spark.sql(\"SELECT COUNT(DISTINCT auctionid) AS auction_count FROM ebay\")\n",
    "sqlDemDauGia.show()"
   ]
  },
  {
   "cell_type": "code",
   "execution_count": 23,
   "id": "25ff2c41-bd7e-4088-812d-a1cdf47e4ea7",
   "metadata": {},
   "outputs": [
    {
     "name": "stdout",
     "output_type": "stream",
     "text": [
      "+----------+-------+-----+\n",
      "| auctionid|   item|count|\n",
      "+----------+-------+-----+\n",
      "|1645883276|cartier|   12|\n",
      "|1641242797|cartier|    5|\n",
      "|1642005995|cartier|   18|\n",
      "|3020060476|   palm|   22|\n",
      "|1644681469|cartier|   14|\n",
      "|8212145833|   xbox|   26|\n",
      "|1638844464|cartier|   16|\n",
      "|3020573049|   palm|    2|\n",
      "|3015632013|   palm|   28|\n",
      "|3024659380|   palm|   26|\n",
      "|3025373736|   palm|   15|\n",
      "|8213387659|   xbox|   25|\n",
      "|1643201832|cartier|    4|\n",
      "|3014834745|   palm|   21|\n",
      "|3020257463|   palm|   16|\n",
      "|3020274575|   palm|   11|\n",
      "|3019821569|   palm|   27|\n",
      "|3024707992|   palm|   20|\n",
      "|8212277835|   xbox|    3|\n",
      "|3019326870|   palm|   33|\n",
      "+----------+-------+-----+\n",
      "only showing top 20 rows\n"
     ]
    }
   ],
   "source": [
    "# d. Đếm số lượng giá đấu trên mỗi mặt hàng\n",
    "sqlDemGia = spark.sql(\"\"\"\n",
    "    SELECT auctionid, item, COUNT(*) AS count\n",
    "    FROM ebay\n",
    "    GROUP BY auctionid, item\n",
    "\"\"\")\n",
    "sqlDemGia.show()"
   ]
  },
  {
   "cell_type": "code",
   "execution_count": 24,
   "id": "440f41ea-9ebc-429c-9fcd-63de91ced71e",
   "metadata": {},
   "outputs": [
    {
     "name": "stdout",
     "output_type": "stream",
     "text": [
      "+----------+-----+--------+--------------+----------+-------+-----+----+----------+\n",
      "| auctionid|  bid| bidtime|        bidder|bidderrate|openbid|price|item|daystolive|\n",
      "+----------+-----+--------+--------------+----------+-------+-----+----+----------+\n",
      "|8213034705|   95|2.927373|      jake7870|         0|     95|117.5|xbox|         3|\n",
      "|8213034705|  115|2.943484| davidbresler2|         1|     95|117.5|xbox|         3|\n",
      "|8213034705|  100|2.951285|gladimacowgirl|        58|     95|117.5|xbox|         3|\n",
      "|8213034705|117.5|2.998947|       daysrus|        10|     95|117.5|xbox|         3|\n",
      "|8213060420|    2|0.065266|    donnie4814|         5|      1|120.0|xbox|         3|\n",
      "|8213060420|15.25|0.123218|   myreeceyboy|        52|      1|120.0|xbox|         3|\n",
      "|8213060420|    3|0.186539|  parakeet2004|         5|      1|120.0|xbox|         3|\n",
      "|8213060420|   10| 0.18669|  parakeet2004|         5|      1|120.0|xbox|         3|\n",
      "|8213060420|24.99|0.187049|  parakeet2004|         5|      1|120.0|xbox|         3|\n",
      "|8213060420|   20|0.249491| bluebubbles_1|        25|      1|120.0|xbox|         3|\n",
      "|8213060420|   22| 0.24956| bluebubbles_1|        25|      1|120.0|xbox|         3|\n",
      "|8213060420|   24|0.249653| bluebubbles_1|        25|      1|120.0|xbox|         3|\n",
      "|8213060420|   26|0.249757| bluebubbles_1|        25|      1|120.0|xbox|         3|\n",
      "|8213060420|   80| 0.59059|        sa4741|         3|      1|120.0|xbox|         3|\n",
      "|8213060420|   75|0.657384|     jhnsn2273|        51|      1|120.0|xbox|         3|\n",
      "|8213060420|   85|0.657917|     jhnsn2273|        51|      1|120.0|xbox|         3|\n",
      "|8213060420|   83|0.816447|        sa4741|         3|      1|120.0|xbox|         3|\n",
      "|8213060420|  100|1.005903|        sa4741|         3|      1|120.0|xbox|         3|\n",
      "|8213060420|  100|1.012697|     jhnsn2273|        51|      1|120.0|xbox|         3|\n",
      "|8213060420|  110|1.013056|     jhnsn2273|        51|      1|120.0|xbox|         3|\n",
      "+----------+-----+--------+--------------+----------+-------+-----+----+----------+\n",
      "only showing top 20 rows\n"
     ]
    }
   ],
   "source": [
    "# e. Lọc và hiển thị các phiên đấu giá có giá đóng cửa lớn hơn 100\n",
    "sqlHighPrice = spark.sql(\"\"\"\n",
    "    SELECT *\n",
    "    FROM ebay\n",
    "    WHERE price > 100\n",
    "    AND price IS NOT NULL\n",
    "\"\"\")\n",
    "sqlHighPrice.show()"
   ]
  },
  {
   "cell_type": "markdown",
   "id": "68320b20-be40-49a8-b225-e70ba5bf1ed4",
   "metadata": {},
   "source": [
    "## VI. Làm quen với thư viện các thuật toán máy học (Machine Learning Library - MLLib)"
   ]
  },
  {
   "cell_type": "markdown",
   "id": "9910729d-4ea6-4b4c-8fa8-43ff2b5c19f3",
   "metadata": {},
   "source": [
    "## Bài tập 1: Thao tác với dữ liệu đầu vào"
   ]
  },
  {
   "cell_type": "code",
   "execution_count": 3,
   "id": "c29e807d-2f9a-4cce-8725-a9862f498b90",
   "metadata": {},
   "outputs": [
    {
     "name": "stderr",
     "output_type": "stream",
     "text": [
      "                                                                                "
     ]
    },
    {
     "data": {
      "text/plain": [
       "294"
      ]
     },
     "execution_count": 3,
     "metadata": {},
     "output_type": "execute_result"
    }
   ],
   "source": [
    "# Sử dụng biến SparkSession để đọc dữ liệu đầu vào từ tập tin csv\n",
    "data = spark.read.format(\"csv\")\\\n",
    "    .option(\"header\", \"true\")\\\n",
    "    .option(\"inferSchema\", \"true\")\\\n",
    "    .load(\"./data_thuchanh/data_geo.csv\")\n",
    "data.cache()\n",
    "data.count()"
   ]
  },
  {
   "cell_type": "code",
   "execution_count": 11,
   "id": "df63302d-bf21-4502-945f-1da898484369",
   "metadata": {},
   "outputs": [
    {
     "data": {
      "text/plain": [
       "DataFrame[2014 rank: int, City: string, State: string, State Code: string, 2014 Population estimate: int, 2015 median sales price: double]"
      ]
     },
     "metadata": {},
     "output_type": "display_data"
    },
    {
     "name": "stdout",
     "output_type": "stream",
     "text": [
      "root\n",
      " |-- 2014 rank: integer (nullable = true)\n",
      " |-- City: string (nullable = true)\n",
      " |-- State: string (nullable = true)\n",
      " |-- State Code: string (nullable = true)\n",
      " |-- 2014 Population estimate: integer (nullable = true)\n",
      " |-- 2015 median sales price: double (nullable = true)\n",
      "\n"
     ]
    },
    {
     "data": {
      "text/plain": [
       "DataFrame[City: string, State Code: string, 2014 Pop estimate: double, 2015 median sales price: double]"
      ]
     },
     "metadata": {},
     "output_type": "display_data"
    }
   ],
   "source": [
    "# Hiển thị thông tin dữ liệu\n",
    "display(data)\n",
    "data.printSchema()\n",
    "\n",
    "# Loại bỏ các dòng có giá trị trống\n",
    "data = data.dropna()\n",
    "data.count()\n",
    "\n",
    "# Tạo View để truy vấn hiển thị dữ liệu\n",
    "data.createOrReplaceTempView(\"data_geo\")\n",
    "df1 = spark.sql(\"\"\"select City, `State Code`, `2014 Population estimate`/1000 as `2014 Pop estimate`, `2015 median sales price` from data_geo\"\"\")\n",
    "display(df1)"
   ]
  },
  {
   "cell_type": "code",
   "execution_count": 17,
   "id": "92ed11a6-d1c7-4d1f-9160-8341be528ef5",
   "metadata": {},
   "outputs": [
    {
     "name": "stdout",
     "output_type": "stream",
     "text": [
      "root\n",
      " |-- label: double (nullable = true)\n",
      " |-- features: vector (nullable = true)\n",
      "\n",
      "+-----+-----------+\n",
      "|label|features   |\n",
      "+-----+-----------+\n",
      "|162.9|[212247.0] |\n",
      "|157.7|[188226.0] |\n",
      "|122.5|[194675.0] |\n",
      "|129.0|[200481.0] |\n",
      "|206.1|[1537058.0]|\n",
      "+-----+-----------+\n",
      "only showing top 5 rows\n"
     ]
    }
   ],
   "source": [
    "# Tiền xử lý dữ liệu với pyspark.ml\n",
    "from pyspark.sql import functions as F\n",
    "from pyspark.ml.feature import VectorAssembler\n",
    "\n",
    "df2 = (data\n",
    "       .select(\n",
    "           F.col(\"2015 median sales price\").cast(\"double\").alias(\"label\"),\n",
    "           F.col(\"2014 Population estimate\").cast(\"double\").alias(\"pop\")\n",
    "       )\n",
    "       .dropna())\n",
    "\n",
    "assembler = VectorAssembler(inputCols=[\"pop\"], outputCol=\"features\")\n",
    "data_ml = assembler.transform(df2).select(\"label\", \"features\")\n",
    "\n",
    "data_ml.printSchema()\n",
    "data_ml.show(5, truncate=False)\n"
   ]
  },
  {
   "cell_type": "code",
   "execution_count": 21,
   "id": "3b1b16f1-d684-417a-a138-94667cd6118d",
   "metadata": {},
   "outputs": [
    {
     "data": {
      "image/png": "[encoded data removed]",
      "text/plain": [
       "<Figure size 800x600 with 1 Axes>"
      ]
     },
     "metadata": {},
     "output_type": "display_data"
    }
   ],
   "source": [
    "import matplotlib.pyplot as plt\n",
    "\n",
    "x = data_ml.rdd.map(lambda p: float(p.features[0])).collect()\n",
    "y = data_ml.rdd.map(lambda p: float(p.label)).collect()\n",
    "\n",
    "# Vẽ biểu đồ\n",
    "plt.figure(figsize=(8, 6))\n",
    "plt.scatter(x, y, color='blue', alpha=0.6)\n",
    "plt.xlabel(\"2014 Population Estimate\")\n",
    "plt.ylabel(\"2015 Median Sales Price\")\n",
    "plt.title(\"Population vs Sales Price\")\n",
    "plt.grid(True)\n",
    "plt.tight_layout()\n",
    "plt.show()"
   ]
  },
  {
   "cell_type": "markdown",
   "id": "77a5faa6-c453-49a7-bb41-77a72ac10f5e",
   "metadata": {},
   "source": [
    "## Bài tập 2: Sử dụng mô hình hồi quy tuyến tính để dự báo kết quả giá bán"
   ]
  },
  {
   "cell_type": "code",
   "execution_count": 4,
   "id": "475cb7e0-780a-454e-bec1-6ec912a9eab2",
   "metadata": {},
   "outputs": [
    {
     "name": "stdout",
     "output_type": "stream",
     "text": [
      "root\n",
      " |-- label: double (nullable = true)\n",
      " |-- features: vector (nullable = true)\n",
      "\n"
     ]
    }
   ],
   "source": [
    "# Chuẩn hóa dữ liệu\n",
    "from pyspark.sql import functions as F\n",
    "from pyspark.ml.feature import VectorAssembler\n",
    "\n",
    "# Tạo DataFrame phù hợp (đổi tên & ép kiểu + bỏ null)\n",
    "df2 = (data\n",
    "       .select(\n",
    "           F.col(\"2015 median sales price\").cast(\"double\").alias(\"label\"),\n",
    "           F.col(\"2014 Population estimate\").cast(\"double\").alias(\"pop\")\n",
    "       )\n",
    "       .dropna())\n",
    "\n",
    "# Tạo cột features (vector 1 chiều từ cột 'pop')\n",
    "assembler = VectorAssembler(inputCols=[\"pop\"], outputCol=\"features\")\n",
    "data_processed = assembler.transform(df2).select(\"label\", \"features\")\n",
    "\n",
    "data_processed.printSchema()"
   ]
  },
  {
   "cell_type": "code",
   "execution_count": 5,
   "id": "af741631-d29a-4761-84cd-6341ccecc85c",
   "metadata": {},
   "outputs": [],
   "source": [
    "# Thêm lớp LinearRegression từ thư viện máy học\n",
    "from pyspark.ml.regression import LinearRegression"
   ]
  },
  {
   "cell_type": "code",
   "execution_count": 9,
   "id": "ce326a2e-c795-4485-a616-6f1f6da51fd8",
   "metadata": {},
   "outputs": [],
   "source": [
    "# Tạo biến LinearRegression để sử dụng\n",
    "lr = LinearRegression()"
   ]
  },
  {
   "cell_type": "code",
   "execution_count": 10,
   "id": "e0794e3a-b587-4543-a2da-801e2034bc5c",
   "metadata": {},
   "outputs": [
    {
     "name": "stderr",
     "output_type": "stream",
     "text": [
      "25/09/01 11:28:32 WARN Instrumentation: [4a7f051f] regParam is zero, which might cause numerical instability and overfitting.\n"
     ]
    }
   ],
   "source": [
    "# Tạo ra hai mô hình tương ứng với hai tham số\n",
    "modelA = lr.fit(data_processed, {lr.regParam:0.0})\n",
    "modelB = lr.fit(data_processed, {lr.regParam:100.0})"
   ]
  },
  {
   "cell_type": "code",
   "execution_count": 11,
   "id": "30c08feb-62d2-4a26-8ba1-b0db1b96a32c",
   "metadata": {},
   "outputs": [
    {
     "name": "stdout",
     "output_type": "stream",
     "text": [
      ">>> ModelA intercept: 191.29427575139394, coefficient: 3.779789682338248e-05\n",
      ">>> ModelB intercept: 199.85112564667153, coefficient: 2.1603499483717156e-05\n"
     ]
    }
   ],
   "source": [
    "# Hiển thị thông tin của hai mô hình\n",
    "print(\">>> ModelA intercept: {}, coefficient: {}\".format(modelA.intercept, modelA.coefficients[0]))\n",
    "print(\">>> ModelB intercept: {}, coefficient: {}\".format(modelB.intercept, modelB.coefficients[0]))"
   ]
  },
  {
   "cell_type": "code",
   "execution_count": 13,
   "id": "803b5f39-99b8-4bfc-8d11-952427f26e29",
   "metadata": {},
   "outputs": [
    {
     "data": {
      "text/plain": [
       "DataFrame[label: double, features: vector, prediction: double]"
      ]
     },
     "metadata": {},
     "output_type": "display_data"
    },
    {
     "data": {
      "text/plain": [
       "DataFrame[label: double, features: vector, prediction: double]"
      ]
     },
     "metadata": {},
     "output_type": "display_data"
    }
   ],
   "source": [
    "# Hiển thị thông tin dự đoán của hai mô hình\n",
    "predictionsA = modelA.transform(data_processed)\n",
    "display(predictionsA)\n",
    "\n",
    "predictionsB = modelB.transform(data_processed)\n",
    "display(predictionsB)"
   ]
  },
  {
   "cell_type": "code",
   "execution_count": 14,
   "id": "e31c7a0d-f6b0-4b80-95dd-077d67a80a4c",
   "metadata": {},
   "outputs": [],
   "source": [
    "## Bài tập 3: Đánh giá mô hình dự đoán"
   ]
  },
  {
   "cell_type": "code",
   "execution_count": 15,
   "id": "063c0e32-4ac6-4b67-a1dc-8459d5aa25f2",
   "metadata": {},
   "outputs": [],
   "source": [
    "# Thêm lớp RegressionEvaluator từ thư viện máy học\n",
    "from pyspark.ml.evaluation import RegressionEvaluator"
   ]
  },
  {
   "cell_type": "code",
   "execution_count": 16,
   "id": "24b72b0b-69bc-4eb5-86ad-0d71ca218c1e",
   "metadata": {},
   "outputs": [
    {
     "name": "stdout",
     "output_type": "stream",
     "text": [
      "ModelA: Root Mean Squared Error = 128.60202684284758\n",
      "ModelB: Root Mean Squared Error = 129.49630019270606\n"
     ]
    }
   ],
   "source": [
    "# Sử dụng phương pháp tính Root Mean Squared Error để đánh giá kết quả mô hình\n",
    "evaluator = RegressionEvaluator(metricName=\"rmse\")\n",
    "\n",
    "RMSEA = evaluator.evaluate(predictionsA)\n",
    "print(\"ModelA: Root Mean Squared Error = \" + str(RMSEA))\n",
    "\n",
    "RMSEB = evaluator.evaluate(predictionsB)\n",
    "print(\"ModelB: Root Mean Squared Error = \" + str(RMSEB))"
   ]
  },
  {
   "cell_type": "code",
   "execution_count": 17,
   "id": "3492923c-d6d7-491b-aee4-3aab405c88e3",
   "metadata": {},
   "outputs": [],
   "source": [
    "## Bài tập 4: Trực quan hóa kết quả"
   ]
  },
  {
   "cell_type": "code",
   "execution_count": 20,
   "id": "81fe9988-5c1d-4cbe-aa9e-d3318c229696",
   "metadata": {},
   "outputs": [],
   "source": [
    "# Thêm vào các thư viện hỗ trợ\n",
    "import numpy as np\n",
    "import matplotlib.pyplot as plt\n",
    "from pyspark.ml.functions import vector_to_array"
   ]
  },
  {
   "cell_type": "code",
   "execution_count": 25,
   "id": "9e84ed5a-b266-47bf-a0c5-8061b0253f95",
   "metadata": {},
   "outputs": [
    {
     "data": {
      "image/png": "[encoded data removed]",
      "text/plain": [
       "<Figure size 900x600 with 1 Axes>"
      ]
     },
     "metadata": {},
     "output_type": "display_data"
    }
   ],
   "source": [
    "# Hiển thị kết quả cần thiết\n",
    "# 1) Trích các cột cần thiết từ predictionsA và predictionsB\n",
    "dfA = predictionsA.select(\n",
    "    vector_to_array(\"features\")[0].alias(\"pop\"),\n",
    "    \"label\",\n",
    "    \"prediction\"  # prediction của A\n",
    ").withColumnRenamed(\"prediction\", \"predA\")\n",
    "\n",
    "dfB = predictionsB.select(\n",
    "    vector_to_array(\"features\")[0].alias(\"pop\"),\n",
    "    \"prediction\"  # prediction của B\n",
    ").withColumnRenamed(\"prediction\", \"predB\")\n",
    "\n",
    "# 2) Join về cùng một DataFrame để đảm bảo canh hàng\n",
    "plot_df = dfA.join(dfB, on=\"pop\", how=\"inner\")\n",
    "\n",
    "# 3) Đưa về pandas\n",
    "pdf = plot_df.toPandas()\n",
    "\n",
    "# 4) Chuẩn bị dữ liệu numpy\n",
    "x     = pdf[\"pop\"].to_numpy(dtype=float)\n",
    "y     = pdf[\"label\"].to_numpy(dtype=float)\n",
    "predA = pdf[\"predA\"].to_numpy(dtype=float)\n",
    "predB = pdf[\"predB\"].to_numpy(dtype=float)\n",
    "\n",
    "# 5) Sắp xếp theo x để vẽ đường dự đoán mượt\n",
    "order  = np.argsort(x)\n",
    "x_line = x[order]\n",
    "y_scatter = y  # scatter không cần sắp xếp\n",
    "predA_line = predA[order]\n",
    "predB_line = predB[order]\n",
    "\n",
    "# 6) Vẽ: scatter thực tế + 2 đường dự đoán\n",
    "plt.figure(figsize=(9, 6))\n",
    "plt.scatter(x, y_scatter, alpha=0.6, label=\"Price\")\n",
    "plt.plot(x_line, predA_line, linewidth=2, label=\"Prediction - Model A\")\n",
    "plt.plot(x_line, predB_line, linewidth=2, label=\"Prediction - Model B\")\n",
    "plt.xlabel(\"2014 Population Estimate\")\n",
    "plt.ylabel(\"2015 Median Sales Price\")\n",
    "plt.title(\"Price Predictions\")\n",
    "plt.legend()\n",
    "plt.grid(True)\n",
    "plt.tight_layout()\n",
    "plt.show()"
   ]
  },
  {
   "cell_type": "code",
   "execution_count": null,
   "id": "4747ff17-4d89-43d2-9b5f-d1f2653d1801",
   "metadata": {},
   "outputs": [],
   "source": []
  }
 ],
 "metadata": {
  "kernelspec": {
   "display_name": "PySpark",
   "language": "python",
   "name": "pyspark"
  },
  "language_info": {
   "codemirror_mode": {
    "name": "ipython",
    "version": 3
   },
   "file_extension": ".py",
   "mimetype": "text/x-python",
   "name": "python",
   "nbconvert_exporter": "python",
   "pygments_lexer": "ipython3",
   "version": "3.10.12"
  }
 },
 "nbformat": 4,
 "nbformat_minor": 5
}
