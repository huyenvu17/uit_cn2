{
 "cells": [
  {
   "cell_type": "code",
   "execution_count": null,
   "id": "1eec5ea0",
   "metadata": {},
   "outputs": [],
   "source": [
    "print(\"=== KẾT NỐI ĐẾN DORIS ===\")\n",
    "connection = mysql.connector.connect(\n",
    "    host='127.0.0.1',\n",
    "    port=9030,\n",
    "    database='retail_db',\n",
    "    user='root',\n",
    "    password=''\n",
    ")\n",
    "\n",
    "if connection.is_connected():\n",
    "    print(\"✅ Kết nối Apache Doris thành công!\")\n",
    "    cursor = connection.cursor()\n",
    "    \n",
    "    # Kiểm tra thông tin kết nối\n",
    "    cursor.execute(\"SELECT VERSION()\")\n",
    "    version = cursor.fetchone()\n",
    "    print(f\"📊 Phiên bản Doris: {version[0]}\")"
   ]
  }
 ],
 "metadata": {
  "language_info": {
   "name": "python"
  }
 },
 "nbformat": 4,
 "nbformat_minor": 5
}
